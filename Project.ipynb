{
 "cells": [
  {
   "cell_type": "markdown",
   "metadata": {
    "id": "Rgfz0zo4d4FJ"
   },
   "source": [
    "## Python Implementation"
   ]
  },
  {
   "cell_type": "code",
   "execution_count": 194,
   "metadata": {
    "id": "2xRWouX4d4FL"
   },
   "outputs": [],
   "source": [
    "#This command imports the Gurobi functions and classes.\n",
    "import gurobipy as gp\n",
    "from gurobipy import GRB\n",
    "\n",
    "import pandas as pd\n",
    "from pylab import *\n",
    "import matplotlib\n",
    "import matplotlib.pyplot as plt"
   ]
  },
  {
   "cell_type": "markdown",
   "metadata": {
    "id": "v88u37Fod4FL"
   },
   "source": [
    "## Input Data\n",
    "\n",
    "We define all the input data of the model.\n"
   ]
  },
  {
   "cell_type": "code",
   "execution_count": 195,
   "metadata": {
    "id": "ncDyeCw9d4FM"
   },
   "outputs": [],
   "source": [
    "# toal number of shifts required for each day\n",
    "day, shiftRequirements = gp.multidict({\n",
    "  \"Mon\": 4,\n",
    "  \"Tue\": 4,\n",
    "  \"Wed\": 5,\n",
    "  \"Thu\": 6,\n",
    "  \"Fri\": 6,\n",
    "  \"Sat\": 8,\n",
    "  \"Sun\": 7})"
   ]
  },
  {
   "cell_type": "code",
   "execution_count": 196,
   "metadata": {
    "id": "TT7Df6lId4FN"
   },
   "outputs": [],
   "source": [
    "# Worker availability: defines on which day each nail technician worker is available.\n",
    "availability = gp.tuplelist([\n",
    "('Penny', 'Mon'), ('Penny', 'Tue'), ('Penny', 'Thur'), ('Penny', 'Sat'),('Penny', 'Sun'),\n",
    "('Billy', 'Mon'), ('Billy', 'Tue'), ('Billy', 'Wed'), ('Billy', 'Thur'),\n",
    "('Billy', 'Friday'), ('Alex', 'Tue'), ('Alex', 'Wed'), ('Alex', 'Friday'),\n",
    "('Alex', 'Sat'), ('Alex', 'Sun'), ('Blenda', 'Mon'), ('Blenda', 'Tue'),\n",
    "('Blenda', 'Thur'), ('Blenda', 'Fri'), ('Blenda', 'Sat'), ('Ruiyuan', 'Mon'),\n",
    "('Ruiyuan', 'Wed'), ('Ruiyuan', 'Thur'), ('Ruiyuan', 'Fri'), ('Ruiyuan', 'Sun'),\n",
    "])"
   ]
  },
  {
   "cell_type": "code",
   "execution_count": 197,
   "metadata": {},
   "outputs": [],
   "source": [
    "workers, profits = gp.multidict({\n",
    "  'Penny': 100,\n",
    "  'Billy': 90,\n",
    "  'Alex':85,\n",
    "  'Blenda':110,\n",
    "  'Ruiyuan':90,\n",
    "})\n",
    "\n",
    "noviceprofit = 30"
   ]
  },
  {
   "cell_type": "markdown",
   "metadata": {
    "id": "8tJ9CRrDd4FO"
   },
   "source": [
    "## Model Deployment"
   ]
  },
  {
   "cell_type": "code",
   "execution_count": 198,
   "metadata": {
    "id": "9OnGYEMbd4FO",
    "outputId": "c352da3e-5c44-4641-ef40-a4a22e3ed6ea"
   },
   "outputs": [],
   "source": [
    "# Create initial model.\n",
    "m = gp.Model(\"nail\")"
   ]
  },
  {
   "cell_type": "markdown",
   "metadata": {
    "id": "RwIi7y24d4FP"
   },
   "source": [
    "### Decision Variables\n"
   ]
  },
  {
   "cell_type": "code",
   "execution_count": 199,
   "metadata": {
    "id": "trfRACG7d4FP"
   },
   "outputs": [],
   "source": [
    "#variable - total shifts each technician assigned to a day\n",
    "technician = m.addVars(availability, vtype=GRB.BINARY, name=\"technician\")"
   ]
  },
  {
   "cell_type": "code",
   "execution_count": 200,
   "metadata": {
    "id": "BABu4dZjd4FP"
   },
   "outputs": [],
   "source": [
    "#variable - total shifts of novice assigned to each day\n",
    "novice = m.addVars(day, vtype=GRB.INTEGER, name=\"novice\")"
   ]
  },
  {
   "cell_type": "code",
   "execution_count": 201,
   "metadata": {
    "id": "byQyB-0Wd4FQ"
   },
   "outputs": [],
   "source": [
    "#total shifts each technician assigned to next week\n",
    "totShifts = m.addVars(workers) #, name=\"TotShifts\""
   ]
  },
  {
   "cell_type": "code",
   "execution_count": 202,
   "metadata": {},
   "outputs": [],
   "source": [
    "#totnovice = m.addVar(name='totnovice')"
   ]
  },
  {
   "cell_type": "code",
   "execution_count": 203,
   "metadata": {},
   "outputs": [],
   "source": [
    "#total profits the nail shop earned next week\n",
    "totprofits = m.addVar(name='totprofits')"
   ]
  },
  {
   "cell_type": "markdown",
   "metadata": {
    "id": "erGmC6ecd4FQ"
   },
   "source": [
    "### Constraint"
   ]
  },
  {
   "cell_type": "code",
   "execution_count": 204,
   "metadata": {
    "id": "uQwFht_Vd4FQ",
    "scrolled": true
   },
   "outputs": [
    {
     "data": {
      "text/plain": [
       "{'Mon': <gurobi.Constr *Awaiting Model Update*>,\n",
       " 'Tue': <gurobi.Constr *Awaiting Model Update*>,\n",
       " 'Wed': <gurobi.Constr *Awaiting Model Update*>,\n",
       " 'Thu': <gurobi.Constr *Awaiting Model Update*>,\n",
       " 'Fri': <gurobi.Constr *Awaiting Model Update*>,\n",
       " 'Sat': <gurobi.Constr *Awaiting Model Update*>,\n",
       " 'Sun': <gurobi.Constr *Awaiting Model Update*>}"
      ]
     },
     "execution_count": 204,
     "metadata": {},
     "output_type": "execute_result"
    }
   ],
   "source": [
    "m.addConstrs((technician.sum('*',s) + novice[s] == shiftRequirements[s] for s in day), name='shiftRequirement')"
   ]
  },
  {
   "cell_type": "code",
   "execution_count": 205,
   "metadata": {},
   "outputs": [
    {
     "data": {
      "text/plain": [
       "{'Penny': <gurobi.Constr *Awaiting Model Update*>,\n",
       " 'Billy': <gurobi.Constr *Awaiting Model Update*>,\n",
       " 'Alex': <gurobi.Constr *Awaiting Model Update*>,\n",
       " 'Blenda': <gurobi.Constr *Awaiting Model Update*>,\n",
       " 'Ruiyuan': <gurobi.Constr *Awaiting Model Update*>}"
      ]
     },
     "execution_count": 205,
     "metadata": {},
     "output_type": "execute_result"
    }
   ],
   "source": [
    "m.addConstrs((totShifts[w] == technician.sum(w,'*') for w in workers), name='totShifts')"
   ]
  },
  {
   "cell_type": "markdown",
   "metadata": {
    "id": "PFGxHLM_d4FR"
   },
   "source": [
    "### Constraint"
   ]
  },
  {
   "cell_type": "code",
   "execution_count": 206,
   "metadata": {},
   "outputs": [
    {
     "name": "stderr",
     "output_type": "stream",
     "text": [
      "<ipython-input-206-2b21a02694a7>:1: DeprecationWarning: Calling np.sum(generator) is deprecated, and in the future will give a different result. Use np.sum(np.fromiter(generator)) or the python sum builtin instead.\n",
      "  m.addConstr(totprofits == (sum(profits[i]*totShifts[i] for i in workers) + (novice.sum())*noviceprofit), name='profits')\n"
     ]
    },
    {
     "data": {
      "text/plain": [
       "<gurobi.Constr *Awaiting Model Update*>"
      ]
     },
     "execution_count": 206,
     "metadata": {},
     "output_type": "execute_result"
    }
   ],
   "source": [
    "m.addConstr(totprofits == (sum(profits[i]*totShifts[i] for i in workers) + (novice.sum())*noviceprofit), name='profits')"
   ]
  },
  {
   "cell_type": "code",
   "execution_count": 207,
   "metadata": {
    "id": "t_IiTnk4d4FR"
   },
   "outputs": [],
   "source": [
    "minShift = m.addVar(name='minShift')\n",
    "\n",
    "maxShift = m.addVar(name='maxShift')\n",
    "\n",
    "min_constr = m.addGenConstrMin(minShift, totShifts, name='minShift')\n",
    "\n",
    "max_constr = m.addGenConstrMax(maxShift, totShifts, name='maxShift')"
   ]
  },
  {
   "cell_type": "markdown",
   "metadata": {
    "id": "EPq7eAA5d4FS"
   },
   "source": [
    "## Objective Function"
   ]
  },
  {
   "cell_type": "code",
   "execution_count": 208,
   "metadata": {},
   "outputs": [],
   "source": [
    "m.ModelSense = GRB.MINIMIZE"
   ]
  },
  {
   "cell_type": "code",
   "execution_count": 209,
   "metadata": {
    "id": "VOS0ItTcd4FS"
   },
   "outputs": [],
   "source": [
    "m.setObjectiveN(maxShift - minShift, index=1, priority=1, name='Fairness')"
   ]
  },
  {
   "cell_type": "code",
   "execution_count": 210,
   "metadata": {},
   "outputs": [],
   "source": [
    "m.setObjectiveN((-totprofits), index=1, priority=2, name='profit')"
   ]
  },
  {
   "cell_type": "code",
   "execution_count": 211,
   "metadata": {
    "id": "hv-_ovDxd4FS"
   },
   "outputs": [],
   "source": [
    "m.write('nail.lp')"
   ]
  },
  {
   "cell_type": "code",
   "execution_count": 212,
   "metadata": {
    "id": "cSXefOvAd4FT",
    "outputId": "c3040014-321a-4587-fbbd-45ca23c5695a"
   },
   "outputs": [
    {
     "name": "stdout",
     "output_type": "stream",
     "text": [
      "Gurobi Optimizer version 9.5.1 build v9.5.1rc2 (mac64[x86])\n",
      "Thread count: 2 physical cores, 4 logical processors, using up to 4 threads\n",
      "Optimize a model with 13 rows, 40 columns and 69 nonzeros\n",
      "Model fingerprint: 0x52a81bae\n",
      "Model has 2 general constraints\n",
      "Variable types: 8 continuous, 32 integer (25 binary)\n",
      "Coefficient statistics:\n",
      "  Matrix range     [1e+00, 1e+02]\n",
      "  Objective range  [1e+00, 1e+00]\n",
      "  Bounds range     [1e+00, 1e+00]\n",
      "  RHS range        [4e+00, 8e+00]\n",
      "\n",
      "---------------------------------------------------------------------------\n",
      "Multi-objectives: starting optimization with 2 objectives ... \n",
      "---------------------------------------------------------------------------\n",
      "\n",
      "Multi-objectives: applying initial presolve ...\n",
      "---------------------------------------------------------------------------\n",
      "\n",
      "Presolve added 4 rows and 12 columns\n",
      "Presolve time: 0.01s\n",
      "Presolved: 17 rows and 52 columns\n",
      "---------------------------------------------------------------------------\n",
      "\n",
      "Multi-objectives: optimize objective 1 (profit) ...\n",
      "---------------------------------------------------------------------------\n",
      "\n",
      "Presolve removed 0 rows and 20 columns\n",
      "Presolve time: 0.00s\n",
      "Presolved: 17 rows, 32 columns, 60 nonzeros\n",
      "Presolved model has 5 SOS constraint(s)\n",
      "Variable types: 12 continuous, 20 integer (14 binary)\n",
      "\n",
      "Root relaxation: objective -3.005000e+03, 10 iterations, 0.00 seconds (0.00 work units)\n",
      "\n",
      "    Nodes    |    Current Node    |     Objective Bounds      |     Work\n",
      " Expl Unexpl |  Obj  Depth IntInf | Incumbent    BestBd   Gap | It/Node Time\n",
      "\n",
      "     0     0 -3005.0000    0    5          - -3005.0000      -     -    0s\n",
      "H    0     0                    -3005.000000 -3005.0000  0.00%     -    0s\n",
      "     0     0 -3005.0000    0    5 -3005.0000 -3005.0000  0.00%     -    0s\n",
      "\n",
      "Explored 1 nodes (10 simplex iterations) in 0.13 seconds (0.00 work units)\n",
      "Thread count was 4 (of 4 available processors)\n",
      "\n",
      "Solution count 1: -3005 \n",
      "No other solutions better than -3005\n",
      "\n",
      "Optimal solution found (tolerance 1.00e-04)\n",
      "Best objective -3.005000000000e+03, best bound -3.005000000000e+03, gap 0.0000%\n",
      "---------------------------------------------------------------------------\n",
      "\n",
      "Multi-objectives: optimize objective 2  ...\n",
      "---------------------------------------------------------------------------\n",
      "\n",
      "\n",
      "Loaded user MIP start with objective 0\n",
      "\n",
      "\n",
      "Explored 0 nodes (0 simplex iterations) in 0.18 seconds (0.00 work units)\n",
      "Thread count was 1 (of 4 available processors)\n",
      "\n",
      "Solution count 1: 0 \n",
      "\n",
      "Optimal solution found (tolerance 1.00e-04)\n",
      "Best objective 0.000000000000e+00, best bound 0.000000000000e+00, gap 0.0000%\n",
      "\n",
      "---------------------------------------------------------------------------\n",
      "Multi-objectives: solved in 0.23 seconds (0.00 work units), solution count 1\n",
      "\n"
     ]
    }
   ],
   "source": [
    "m.optimize()"
   ]
  },
  {
   "cell_type": "code",
   "execution_count": 213,
   "metadata": {
    "id": "4ExSIMbgd4FT"
   },
   "outputs": [],
   "source": [
    "status = m.Status\n",
    "if status == GRB.Status.INF_OR_UNBD or status == GRB.Status.INFEASIBLE  or status == GRB.Status.UNBOUNDED:\n",
    "    print('The model cannot be solved because it is infeasible or unbounded')\n",
    "    sys.exit(0)\n",
    "if status != GRB.Status.OPTIMAL:\n",
    "    print('Optimization was stopped with status ' + str(status))\n",
    "    sys.exit(0)"
   ]
  },
  {
   "cell_type": "code",
   "execution_count": 214,
   "metadata": {},
   "outputs": [
    {
     "name": "stdout",
     "output_type": "stream",
     "text": [
      "technician[Penny,Mon] 1.0\n",
      "technician[Penny,Tue] 1.0\n",
      "technician[Penny,Thur] 1.0\n",
      "technician[Penny,Sat] 1.0\n",
      "technician[Penny,Sun] 1.0\n",
      "technician[Billy,Mon] 1.0\n",
      "technician[Billy,Tue] 1.0\n",
      "technician[Billy,Wed] 1.0\n",
      "technician[Billy,Thur] 1.0\n",
      "technician[Billy,Friday] 1.0\n",
      "technician[Alex,Tue] 1.0\n",
      "technician[Alex,Wed] 1.0\n",
      "technician[Alex,Friday] 1.0\n",
      "technician[Alex,Sat] 1.0\n",
      "technician[Alex,Sun] 1.0\n",
      "technician[Blenda,Mon] 1.0\n",
      "technician[Blenda,Tue] 1.0\n",
      "technician[Blenda,Thur] 1.0\n",
      "technician[Blenda,Fri] 1.0\n",
      "technician[Blenda,Sat] 1.0\n",
      "technician[Ruiyuan,Mon] 1.0\n",
      "technician[Ruiyuan,Wed] 1.0\n",
      "technician[Ruiyuan,Thur] 1.0\n",
      "technician[Ruiyuan,Fri] 1.0\n",
      "technician[Ruiyuan,Sun] 1.0\n",
      "novice[Mon] 0.0\n",
      "novice[Tue] 0.0\n",
      "novice[Wed] 2.0\n",
      "novice[Thu] 6.0\n",
      "novice[Fri] 4.0\n",
      "novice[Sat] 5.0\n",
      "novice[Sun] 4.0\n",
      "C32 5.0\n",
      "C33 5.0\n",
      "C34 5.0\n",
      "C35 5.0\n",
      "C36 5.0\n",
      "totprofits 3005.0\n",
      "minShift 5.0\n",
      "maxShift 5.000000000000001\n"
     ]
    }
   ],
   "source": [
    "for x in m.getVars():\n",
    "    print(x.varName, x.x)"
   ]
  }
 ],
 "metadata": {
  "colab": {
   "name": "workforce_scheduling_gcl.ipynb",
   "provenance": []
  },
  "kernelspec": {
   "display_name": "Python 3",
   "language": "python",
   "name": "python3"
  },
  "language_info": {
   "codemirror_mode": {
    "name": "ipython",
    "version": 3
   },
   "file_extension": ".py",
   "mimetype": "text/x-python",
   "name": "python",
   "nbconvert_exporter": "python",
   "pygments_lexer": "ipython3",
   "version": "3.8.8"
  }
 },
 "nbformat": 4,
 "nbformat_minor": 1
}
